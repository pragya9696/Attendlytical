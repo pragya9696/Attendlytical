{
 "cells": [
  {
   "cell_type": "code",
   "execution_count": 11,
   "id": "74fbbff9",
   "metadata": {},
   "outputs": [],
   "source": [
    "import sounddevice as sd\n",
    "from scipy.io.wavfile import write\n",
    "import wavio as wv\n",
    "  \n",
    "freq = 44100\n",
    "duration = 60\n",
    "\n",
    "recording = sd.rec(int(duration * freq), \n",
    "                   samplerate=freq, channels=2)\n",
    "  \n",
    "\n",
    "sd.wait()\n",
    "wv.write(\"lecture/lecture.wav\", recording, freq, sampwidth=2)"
   ]
  },
  {
   "cell_type": "code",
   "execution_count": 12,
   "id": "482edc69",
   "metadata": {},
   "outputs": [],
   "source": [
    "filename = \"lecture/lecture.wav\"\n",
    "import speech_recognition as sr\n",
    "r = sr.Recognizer()\n",
    "with sr.AudioFile(filename) as source:\n",
    "    # listen for the data (load audio to memory)\n",
    "    audio_data = r.record(source)\n",
    "    # recognize (convert from speech to text)\n",
    "    text = r.recognize_google(audio_data)\n",
    "    f = open(\"lecture/lecture.txt\", \"w\")\n",
    "    f.write(text)\n",
    "    f.close()"
   ]
  },
  {
   "cell_type": "code",
   "execution_count": 6,
   "id": "38c7702f",
   "metadata": {},
   "outputs": [],
   "source": [
    "from transformers import pipeline"
   ]
  },
  {
   "cell_type": "code",
   "execution_count": 7,
   "id": "ab8d5956",
   "metadata": {},
   "outputs": [
    {
     "name": "stderr",
     "output_type": "stream",
     "text": [
      "No model was supplied, defaulted to sshleifer/distilbart-cnn-12-6 (https://huggingface.co/sshleifer/distilbart-cnn-12-6)\n"
     ]
    }
   ],
   "source": [
    "summarizer=pipeline(\"summarization\")"
   ]
  },
  {
   "cell_type": "code",
   "execution_count": 17,
   "id": "2128f5e0",
   "metadata": {},
   "outputs": [],
   "source": [
    "article=open(\"lecture/lecture.txt\", \"r\").read()\n",
    "c=summarizer(article,max_length=150,min_length=20,do_sample=False)\n",
    "text=c[0][\"summary_text\"]\n",
    "f = open(\"lecture/summary/summary.txt\", \"w\")\n",
    "f.write(text)\n",
    "f.close()"
   ]
  },
  {
   "cell_type": "code",
   "execution_count": 18,
   "id": "4b255238",
   "metadata": {},
   "outputs": [],
   "source": [
    "from gtts import gTTS\n",
    "  \n",
    "# This module is imported so that we can \n",
    "# play the converted audio\n",
    "import os\n",
    "  \n",
    "# The text that you want to convert to audio\n",
    "with open('lecture/summary/summary.txt') as f:\n",
    "    lines = f.readlines()\n",
    "text=\"\"\n",
    "for x in lines:\n",
    "    text=text+x\n",
    "tts = gTTS(text)\n",
    "tts.save(\"lecture/summary/summary.mp3\")"
   ]
  },
  {
   "cell_type": "code",
   "execution_count": null,
   "id": "41c36b24",
   "metadata": {},
   "outputs": [],
   "source": []
  }
 ],
 "metadata": {
  "kernelspec": {
   "display_name": "Python 3 (ipykernel)",
   "language": "python",
   "name": "python3"
  },
  "language_info": {
   "codemirror_mode": {
    "name": "ipython",
    "version": 3
   },
   "file_extension": ".py",
   "mimetype": "text/x-python",
   "name": "python",
   "nbconvert_exporter": "python",
   "pygments_lexer": "ipython3",
   "version": "3.9.12"
  }
 },
 "nbformat": 4,
 "nbformat_minor": 5
}
